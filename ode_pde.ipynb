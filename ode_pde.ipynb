{
 "cells": [
  {
   "cell_type": "code",
   "execution_count": null,
   "metadata": {
    "collapsed": false
   },
   "outputs": [],
   "source": [
    "# jbk28@cam.ac.uk 13/01/17\n",
    "from __future__ import division, print_function, unicode_literals # if Python 2.x is used\n",
    "import numpy as np\n",
    "import matplotlib.pyplot as plt\n",
    "%matplotlib inline"
   ]
  },
  {
   "cell_type": "markdown",
   "metadata": {},
   "source": [
    "# Numerical differential equations\n",
    "\n",
    "In the simplest methods for solving differential equations numerically, one goes back to the definition of the differential operator: `lim dx->0 (f(t + dx) - f(t))/dx` and simply take `dx` small, but finite, which will approximate the true derivative.\n",
    "We start by understanding this."
   ]
  },
  {
   "cell_type": "markdown",
   "metadata": {},
   "source": [
    "### Numerical differentiation\n",
    "We start by defining a few functions for which we know their analytical derivative."
   ]
  },
  {
   "cell_type": "code",
   "execution_count": null,
   "metadata": {
    "collapsed": false
   },
   "outputs": [],
   "source": [
    "dx = 0.3\n",
    "x = np.arange(0, 10, dx) # returns [0, dx, 2dx, 3dx, 4dx, 5dx, ...]\n",
    "print(x)\n",
    "f1 = np.sin(x)\n",
    "f2 = x**2/100\n",
    "f3 = np.log(1+x)-1\n",
    "fs = [f1, f2, f3]"
   ]
  },
  {
   "cell_type": "code",
   "execution_count": null,
   "metadata": {
    "collapsed": false,
    "scrolled": true
   },
   "outputs": [],
   "source": [
    "for i in range(3): plt.plot(x, fs[i])"
   ]
  },
  {
   "cell_type": "code",
   "execution_count": null,
   "metadata": {
    "collapsed": true
   },
   "outputs": [],
   "source": [
    "df1 = np.cos(x)\n",
    "df2 = x/50\n",
    "df3 = 1/(1+x)\n",
    "dfs = [df1, df2, df3]"
   ]
  },
  {
   "cell_type": "markdown",
   "metadata": {},
   "source": [
    "Now let us see if we can calculate these derivatives numerically."
   ]
  },
  {
   "cell_type": "code",
   "execution_count": null,
   "metadata": {
    "collapsed": true
   },
   "outputs": [],
   "source": [
    "def derivative(f, dx):\n",
    "    return (f[1:] - f[:-1])/dx # returned function is one value shorter than input f\n",
    "ndfs = [derivative(f, dx) for f in fs]"
   ]
  },
  {
   "cell_type": "code",
   "execution_count": null,
   "metadata": {
    "collapsed": false
   },
   "outputs": [],
   "source": [
    "for i in range(3): plt.plot(x[:-1], ndfs[i], lw=3, alpha=0.5)\n",
    "for i in range(3): plt.plot(x, dfs[i], '--k')\n",
    "plt.show()"
   ]
  },
  {
   "cell_type": "markdown",
   "metadata": {},
   "source": [
    "That worked pretty well, but we can do even better by using central differences for estimating the deriavtive."
   ]
  },
  {
   "cell_type": "code",
   "execution_count": null,
   "metadata": {
    "collapsed": false,
    "scrolled": true
   },
   "outputs": [],
   "source": [
    "def central_derivative(f, dx):\n",
    "    return (f[2:] - f[:-2])/(2*dx) # returned function is two values shorter than input f\n",
    "ndfs = [central_derivative(f, dx) for f in fs]\n",
    "for i in range(3): plt.plot(x[1:-1], ndfs[i], lw=3, alpha=0.5)\n",
    "for i in range(3): plt.plot(x, dfs[i], '--k')\n",
    "plt.show()"
   ]
  },
  {
   "cell_type": "markdown",
   "metadata": {},
   "source": [
    "The error is order `dx` for left/right derivatives, but only `dx^2` for central derivatives."
   ]
  },
  {
   "cell_type": "markdown",
   "metadata": {},
   "source": [
    "## Initial Value Problems\n",
    "We now turn to simple ODE's. Consider the damped harmonic oscillator equation\n",
    "```\n",
    "x''(t) = - k x(t) - d x'(t)\n",
    "```\n",
    "which we can write as\n",
    "```\n",
    "x'(t) = v(t)\n",
    "v'(t) = -k x(t) - d v(t).\n",
    "```\n",
    "We want to solve this with initial conditions `x(0) = x0, v(0) = v0`."
   ]
  },
  {
   "cell_type": "code",
   "execution_count": null,
   "metadata": {
    "collapsed": true
   },
   "outputs": [],
   "source": [
    "def analytical_solution(t, k, d, x0, v0):\n",
    "    d += 0j # Exploiting complex numbers for one general solution\n",
    "    return np.real((np.exp(-((d*t)/2))*(np.sqrt(d**2-4*k)*x0*np.cosh(1/2*np.sqrt(d**2-4*k)*t)+(2*v0+d* \\\n",
    "           x0)*np.sinh(1/2*np.sqrt(d**2-4*k)*t)))/np.sqrt(d**2-4*k))"
   ]
  },
  {
   "cell_type": "code",
   "execution_count": null,
   "metadata": {
    "collapsed": false
   },
   "outputs": [],
   "source": [
    "dt = 0.02\n",
    "t = np.arange(0,25,dt)\n",
    "k = 5; d = 0.3; x0 = 0; v0 = 1"
   ]
  },
  {
   "cell_type": "code",
   "execution_count": null,
   "metadata": {
    "collapsed": true
   },
   "outputs": [],
   "source": [
    "x = np.zeros_like(t)\n",
    "v = np.zeros_like(t)\n",
    "x[0] = x0; v[0] = v0"
   ]
  },
  {
   "cell_type": "code",
   "execution_count": null,
   "metadata": {
    "collapsed": false
   },
   "outputs": [],
   "source": [
    "for i in range(len(t)-1): # Step through time with step size dt\n",
    "    v[i + 1] = v[i] + (-k * x[i] - d * v[i]) * dt\n",
    "    x[i + 1] = x[i] + v[i+1] * dt # v[i+1] makes a big stability difference!"
   ]
  },
  {
   "cell_type": "code",
   "execution_count": null,
   "metadata": {
    "collapsed": false,
    "scrolled": true
   },
   "outputs": [],
   "source": [
    "plt.plot(t, x, lw=3, alpha=0.5)\n",
    "plt.plot(t, analytical_solution(t, k, d, x0, v0), '--k')\n",
    "plt.show()"
   ]
  },
  {
   "cell_type": "markdown",
   "metadata": {},
   "source": [
    "### Exercise\n",
    "(Skip this exercise if you feel confident it's easy)\n",
    "\n",
    "Change the above code to solve \n",
    "```\n",
    "x''(t) = - k sin(x(t))\n",
    "```\n",
    "\n",
    "If time permits: lookup documentation for `scipy.integrate.odeint` and use that to solve the above equation. This will be much more efficient. But do other exercises first."
   ]
  },
  {
   "cell_type": "markdown",
   "metadata": {},
   "source": [
    "## Boundary Value Problems\n",
    "Now we want to solve the equation\n",
    "```\n",
    "y''(x) = y(x)\n",
    "y(0) = y0\n",
    "y(1) = y1\n",
    "```\n",
    "We can no longer iterate forwards from a given start point as we could before, where both `x(0)` and `x'(0)` were known.\n",
    "There are many methods to solve systems as the above (shootings methods, relaxation methods, etc), but we will use the simplest direct method here. Again we base it on finite differences."
   ]
  },
  {
   "cell_type": "code",
   "execution_count": null,
   "metadata": {
    "collapsed": true
   },
   "outputs": [],
   "source": [
    "dx = 0.01\n",
    "x = np.arange(0, 1, dx)\n",
    "n = len(x)\n",
    "y0 = 1\n",
    "y1 = 10"
   ]
  },
  {
   "cell_type": "markdown",
   "metadata": {},
   "source": [
    "Imagine that we had calculated `y`. It would be some array:"
   ]
  },
  {
   "cell_type": "code",
   "execution_count": null,
   "metadata": {
    "collapsed": true
   },
   "outputs": [],
   "source": [
    "y = x**4 # not correct"
   ]
  },
  {
   "cell_type": "markdown",
   "metadata": {},
   "source": [
    "How would we calculate the vector `y''`? In particular, can we find a matrix `L` such that `y'' = L y`?\n",
    "\n",
    "Double derivatives can be estimated by finite differences as (see https://en.wikipedia.org/wiki/Finite_difference_coefficient)\n",
    "```\n",
    "y''(x) = (y(x + dx) + y(x - dx) - 2 y(x))/dx^2\n",
    "```\n",
    "Let's build a matrix based on that:"
   ]
  },
  {
   "cell_type": "code",
   "execution_count": null,
   "metadata": {
    "collapsed": false,
    "scrolled": true
   },
   "outputs": [],
   "source": [
    "L = np.diag(np.ones(n - 1), 1) + np.diag(np.ones(n - 1), -1) - 2 * np.diag(np.ones(n))\n",
    "print(L)\n",
    "L = L/dx**2"
   ]
  },
  {
   "cell_type": "code",
   "execution_count": null,
   "metadata": {
    "collapsed": false
   },
   "outputs": [],
   "source": [
    "ypp = np.dot(L, y) # matrix product L y\n",
    "plt.plot(x, ypp, lw=3, alpha=0.5)\n",
    "plt.plot(x, 4*3*x**2, '--k')\n",
    "plt.axis([0, 1, -3, 15])\n",
    "plt.show()"
   ]
  },
  {
   "cell_type": "markdown",
   "metadata": {},
   "source": [
    "All looks good, expect the endpoints. This was expected. This is why we have boundary conditions.\n",
    "\n",
    "We can write our equation `y''(x) = y(x)` as `y''(x) - y(x) = 0` and by introducing the double derivative operator `L` and the identity operator `I`, we could also write it as\n",
    "```\n",
    "(L - I) y = 0\n",
    "```\n",
    "The idenitity operator for vectors is of course just the idenitity matrix"
   ]
  },
  {
   "cell_type": "code",
   "execution_count": null,
   "metadata": {
    "collapsed": true
   },
   "outputs": [],
   "source": [
    "I = np.eye(n)\n",
    "A = L - I"
   ]
  },
  {
   "cell_type": "markdown",
   "metadata": {},
   "source": [
    "Where `A` is defining the full problem.\n",
    "The problem is still not well-defined as we need to somehow implement our boundary conditions.\n",
    "Let's do it, and explain afterwards:"
   ]
  },
  {
   "cell_type": "code",
   "execution_count": null,
   "metadata": {
    "collapsed": false
   },
   "outputs": [],
   "source": [
    "A[0, :] = 0\n",
    "A[0, 0] = 1\n",
    "A[-1, :] = 0\n",
    "A[-1, -1] = 1\n",
    "b = np.zeros(n)\n",
    "b[0] = y0\n",
    "b[-1] = y1\n",
    "\n",
    "np.set_printoptions(suppress=True)\n",
    "print(np.round(A))\n",
    "print('* y == ')\n",
    "print(b)"
   ]
  },
  {
   "cell_type": "markdown",
   "metadata": {},
   "source": [
    "The first row extracts y[0] and the equation then sets it equal to y0(=1) and the last row extracts y[-1] and sets it equal to y1(=10).\n",
    "All other lines sets double derivatives equal to zero.\n",
    "\n",
    "Solving the above linear system of equations is easy.\n",
    "Numpy linear algebra module can do it for us:"
   ]
  },
  {
   "cell_type": "code",
   "execution_count": null,
   "metadata": {
    "collapsed": false
   },
   "outputs": [],
   "source": [
    "from numpy.linalg import solve\n",
    "y = solve(A, b)"
   ]
  },
  {
   "cell_type": "code",
   "execution_count": null,
   "metadata": {
    "collapsed": false
   },
   "outputs": [],
   "source": [
    "analytical = (np.exp(-x)*(np.exp(1)*(np.exp(1)*y0-y1)+np.exp(2*x)*(-y0+np.exp(1)*y1)))/(-1+np.exp(2))"
   ]
  },
  {
   "cell_type": "code",
   "execution_count": null,
   "metadata": {
    "collapsed": false
   },
   "outputs": [],
   "source": [
    "plt.plot(x, y, lw=3, alpha=0.5)\n",
    "plt.plot(x, analytical, '--k')\n",
    "plt.show()"
   ]
  },
  {
   "cell_type": "markdown",
   "metadata": {},
   "source": [
    "It is great for testing one's code that we can compare to analytical solutions, but of course the strength of numerical methods is that we can solve equations that we do not have analytical solutions for."
   ]
  },
  {
   "cell_type": "markdown",
   "metadata": {},
   "source": [
    "### Exercise\n",
    "Solve\n",
    "```\n",
    "y''(x) = y'(x) + sin(x)*exp(x)\n",
    "y(-pi) = 0\n",
    "y(pi) = 1\n",
    "```\n",
    "\n",
    "The analytical solution is given below."
   ]
  },
  {
   "cell_type": "code",
   "execution_count": null,
   "metadata": {
    "collapsed": false
   },
   "outputs": [],
   "source": [
    "dx = 0.01\n",
    "x = np.arange(-np.pi, np.pi, dx)\n",
    "y = 1/4*np.exp(-np.pi)/np.sinh(np.pi)*(-2+np.exp(x)*(1+2*np.exp(np.pi)+np.cos(x)+ \\\n",
    "        np.sin(x)-np.exp(2*(np.pi))*(1+np.cos(x)+np.sin(x))))\n",
    "plt.plot(x, y, '--k')\n",
    "plt.axis([-np.pi, np.pi, -6, 1.5])\n",
    "plt.show()"
   ]
  },
  {
   "cell_type": "markdown",
   "metadata": {},
   "source": [
    "### Extra exercise\n",
    "What about Neumann boundary conditions? Try writing a solver for\n",
    "```\n",
    "y''(x) = y(x) + sin(x)*exp(x)\n",
    "y(-pi) = 1\n",
    "y'(pi) = 0\n",
    "```\n",
    "As a check, the correct solution has `y(0) = -0.956331`."
   ]
  },
  {
   "cell_type": "markdown",
   "metadata": {},
   "source": [
    "## Partial differential equations\n",
    "Just as PDE's are harder to solve than ODE's, so are PDE's much harder to implement numerically.\n",
    "Most courses tend to avoid these and say they \"generalise from ODE's\", which I would argue is far from true.\n",
    "This being a maths department and PDE solving might be relevant, so we will cover this area. But focus on simple methods."
   ]
  },
  {
   "cell_type": "markdown",
   "metadata": {},
   "source": [
    "### 3D functions\n",
    "We start by showing how to plot\n",
    "```\n",
    "u(x,y) = exp(x) sin(y)\n",
    "```"
   ]
  },
  {
   "cell_type": "code",
   "execution_count": null,
   "metadata": {
    "collapsed": false
   },
   "outputs": [],
   "source": [
    "dx = 0.01\n",
    "x = np.arange(0, 7, dx)\n",
    "y = np.arange(-3, 3, dx)\n",
    "X, Y = np.meshgrid(x, y)\n",
    "U = np.exp(X) * np.sin(Y)\n",
    "\n",
    "plt.imshow(U, extent=(min(x), max(x), max(y), min(y)))\n",
    "plt.xlabel('x')\n",
    "plt.ylabel('y')\n",
    "plt.colorbar()\n",
    "plt.show()"
   ]
  },
  {
   "cell_type": "markdown",
   "metadata": {},
   "source": [
    "In the above `np.meshgrid` has made the 2D arrays `X,Y`:"
   ]
  },
  {
   "cell_type": "code",
   "execution_count": null,
   "metadata": {
    "collapsed": false
   },
   "outputs": [],
   "source": [
    "print(X.shape, Y.shape, U.shape)\n",
    "print(X)"
   ]
  },
  {
   "cell_type": "markdown",
   "metadata": {},
   "source": [
    "### Example problem\n",
    "Let us solve the steady state heat (Laplace) equation with known temperature boundary conditions\n",
    "```\n",
    "Laplacian u(x, y) = 0\n",
    "u(x, 0) = 1\n",
    "u(0, y) = 1 - y\n",
    "u(x, 1) = 0\n",
    "y(1, y) = 0\n",
    "```"
   ]
  },
  {
   "cell_type": "markdown",
   "metadata": {},
   "source": [
    "We start by defining our domain:"
   ]
  },
  {
   "cell_type": "code",
   "execution_count": null,
   "metadata": {
    "collapsed": false
   },
   "outputs": [],
   "source": [
    "dx = 0.02\n",
    "x = np.arange(0, 1 + dx, dx)\n",
    "m = len(x)\n",
    "print(x[0], x[-1])\n",
    "X, Y = np.meshgrid(x, x)\n",
    "shape = X.shape"
   ]
  },
  {
   "cell_type": "markdown",
   "metadata": {},
   "source": [
    "We wish to solve for `U`, but currently `U`, like `X` and `Y`, would be a matrix. Linear systems tend to work on vectors, so we should formulate our system such that we can solve for a vector.\n",
    "For this purpose we define functions that take us from vector to matrix and vice versa."
   ]
  },
  {
   "cell_type": "code",
   "execution_count": null,
   "metadata": {
    "collapsed": true
   },
   "outputs": [],
   "source": [
    "def to_vector(mat):\n",
    "    return np.ravel(mat)\n",
    "def to_matrix(vec):\n",
    "    return np.reshape(vec, shape)"
   ]
  },
  {
   "cell_type": "code",
   "execution_count": null,
   "metadata": {
    "collapsed": false
   },
   "outputs": [],
   "source": [
    "print(X.shape, '=>', to_vector(X).shape)\n",
    "print((X == to_matrix(to_vector(X))).all())\n",
    "print((Y == to_matrix(to_vector(Y))).all())"
   ]
  },
  {
   "cell_type": "markdown",
   "metadata": {},
   "source": [
    "So we define 1D arrays of our coordinates:"
   ]
  },
  {
   "cell_type": "code",
   "execution_count": null,
   "metadata": {
    "collapsed": true
   },
   "outputs": [],
   "source": [
    "x = to_vector(X)\n",
    "y = to_vector(Y)\n",
    "n = len(x)"
   ]
  },
  {
   "cell_type": "markdown",
   "metadata": {},
   "source": [
    "The discrete Laplacian looks like this:\n",
    "```\n",
    "0   1   0\n",
    "1  -4   1\n",
    "0   1   0\n",
    "```\n",
    "divided by `dx^2`"
   ]
  },
  {
   "cell_type": "markdown",
   "metadata": {},
   "source": [
    "There are smart ways to make this, but it depends on how you form the vectors.\n",
    "We should not dwelve too long at the details of how we've done it here (ravel, reshape), but instead we will build the Laplacian in a silly way using a loop. This way will work no matter how scrambled the coordinates are in the vector."
   ]
  },
  {
   "cell_type": "code",
   "execution_count": null,
   "metadata": {
    "collapsed": false
   },
   "outputs": [],
   "source": [
    "L = np.zeros((n, n))\n",
    "for i in range(n):\n",
    "    L[i,i] = -4\n",
    "    \n",
    "    j = np.argmin( (x[i] + dx - x)**2 + (y[i] - y)**2 ) # Find index j in vectors for point (x[i]+dx, y[i])\n",
    "    if i!=j: L[i,j] = 1 # If i==j, we are at the boundary of the domain\n",
    "    \n",
    "    j = np.argmin( (x[i] - dx - x)**2 + (y[i] - y)**2 ) # Find index j in vectors for point (x[i]-dx, y[i])\n",
    "    if i!=j: L[i,j] = 1\n",
    "    \n",
    "    j = np.argmin( (x[i] - x)**2 + (y[i] + dx - y)**2 ) # Find index j in vectors for point (x[i], y[i]+dx)\n",
    "    if i!=j: L[i,j] = 1\n",
    "    \n",
    "    j = np.argmin( (x[i] - x)**2 + (y[i] - dx - y)**2 ) # Find index j in vectors for point (x[i], y[i]-dx)\n",
    "    if i!=j: L[i,j] = 1\n",
    "print(L)\n",
    "L = L/dx**2"
   ]
  },
  {
   "cell_type": "markdown",
   "metadata": {},
   "source": [
    "As mentioned, this can be done much more efficiently (and without using loops).\n",
    "But this requires that one understands how the reorganisation to vectors work.\n",
    "Anyway, just to show how one could do it:"
   ]
  },
  {
   "cell_type": "code",
   "execution_count": null,
   "metadata": {
    "collapsed": false
   },
   "outputs": [],
   "source": [
    "L_quick = -4 * np.eye(n) + np.diag(np.ones(n-m), m) + np.diag(np.ones(n-m), -m)\n",
    "a = np.ones(n-1); a[(m-1)::m] = 0\n",
    "L_quick += np.diag(a,1) + np.diag(a,-1)\n",
    "L_quick = L_quick/dx**2\n",
    "\n",
    "print( (L == L_quick).all() )"
   ]
  },
  {
   "cell_type": "markdown",
   "metadata": {},
   "source": [
    "Now we implement the boundary conditions:"
   ]
  },
  {
   "cell_type": "code",
   "execution_count": null,
   "metadata": {
    "collapsed": false
   },
   "outputs": [],
   "source": [
    "b = np.zeros(n)\n",
    "for i in range(n):\n",
    "    if (x[i]==0 or x[i]==1 or y[i]==0 or y[i]==1): # For any boundary point\n",
    "        L[i, :] = 0\n",
    "        L[i, i] = 1\n",
    "    \n",
    "    # BC points that are not equal to zero:\n",
    "    if x[i] == 0:\n",
    "        b[i] = 1 - y[i]\n",
    "    elif y[i] == 0:\n",
    "        b[i] = 1"
   ]
  },
  {
   "cell_type": "markdown",
   "metadata": {},
   "source": [
    "And lastly, we solve:"
   ]
  },
  {
   "cell_type": "code",
   "execution_count": null,
   "metadata": {
    "collapsed": false
   },
   "outputs": [],
   "source": [
    "from scipy.linalg import solve\n",
    "u = solve(L, b)"
   ]
  },
  {
   "cell_type": "code",
   "execution_count": null,
   "metadata": {
    "collapsed": false
   },
   "outputs": [],
   "source": [
    "U = to_matrix(u)\n",
    "plt.imshow(U, extent=(min(x), max(x), max(y), min(y)))\n",
    "plt.xlabel('x')\n",
    "plt.ylabel('y')\n",
    "plt.colorbar()\n",
    "plt.title('Temperature distriubtion of plate')\n",
    "plt.show()"
   ]
  },
  {
   "cell_type": "markdown",
   "metadata": {},
   "source": [
    "### Exercise\n",
    "Heat equation with heat source. Solve:\n",
    "```\n",
    "Laplacian u(x, y) = exp(-2*((x-0.5)^2+(y-0.5)^2))\n",
    "u(x, 0) = 1\n",
    "u(0, y) = 1 - y\n",
    "u(x, 1) = 0\n",
    "y(1, y) = 0\n",
    "```"
   ]
  },
  {
   "cell_type": "markdown",
   "metadata": {},
   "source": [
    "### Extra exercise (harder)\n",
    "Heat equation with flow. Solve:\n",
    "```\n",
    "Laplacian u(x, y) = v(x, y) grad u(x, y)\n",
    "u(x, 0) = 1\n",
    "u(0, y) = 1 - y\n",
    "u(x, 1) = 0\n",
    "y(1, y) = 0\n",
    "```\n",
    "where `v(x, y)` is some incompressible flow, e.g. solid-body rotation:\n",
    "```\n",
    "v_x = -(y-0.5)\n",
    "v_y = (x-0.5)\n",
    "```"
   ]
  },
  {
   "cell_type": "markdown",
   "metadata": {},
   "source": [
    "## Extra Technical Details"
   ]
  },
  {
   "cell_type": "markdown",
   "metadata": {},
   "source": [
    "### Time-stepping\n",
    "When we discretise an equation, e.g.\n",
    "```\n",
    "y'(t) = -k y(t)\n",
    "```\n",
    "we get in Python\n",
    "```\n",
    "y[i+1] = y[i] - k * y[i] * dt\n",
    "```\n",
    "This is called explicit time-stepping and can be unstable (especially if `k` is very big).\n",
    "\n",
    "Instead we could have written\n",
    "```\n",
    "y[i+1] = y[i] - k * y[i+1] * dt\n",
    "```\n",
    "Of course, in its current form, this makes no sense. We cannot use `y[i+1]` until we calculate it.\n",
    "But we could solve the above equation and instead write\n",
    "```\n",
    "y[i+1] = y[i]/(1 + k * dt)\n",
    "```\n",
    "This is called implicit time-stepping and is typically much more stable and often required to have any progress.\n",
    "The above example was simple, for PDE's implicit time-stepping typically requires solving a matrix equation.\n"
   ]
  },
  {
   "cell_type": "markdown",
   "metadata": {},
   "source": [
    "### Sparse matrices\n",
    "Our operator matrices `A` typically contain a lot of zeros.\n",
    "For big problems, the matrices become so big that they cannot be contained in memory.\n",
    "For such problems we don't want to explicitly store the zeros. This is purpose of sparse matrices. They only store non-zero entries.\n",
    "See `scipy.sparse`. There are also super fast solvers for sparse matrices. Simple ones can be found in `scipy.sparse.linalg`."
   ]
  },
  {
   "cell_type": "markdown",
   "metadata": {},
   "source": [
    "### Grids\n",
    "For the PDE examples we have worked only on rectangular grids.\n",
    "On these grids finite difference methods work well. It is also easy to add periodic boundary conditions.\n",
    "But many problems are not on rectangular grids, what then?\n",
    "That's a big question that is beyond on the scope of this course for sure.\n",
    "But you should have at least heard of the \"finite element method\".\n",
    "This is one approach to solving PDEs on complicated domains."
   ]
  },
  {
   "cell_type": "markdown",
   "metadata": {},
   "source": [
    "### Non-linearities\n",
    "We have only looked at linear equations.\n",
    "Non-linear equations cannot be solved in one go by a matrix equation, but its solution must be iterated towards.\n",
    "Imagine you wanted to solve\n",
    "```\n",
    "Laplacian u(x,y) = u(x,y)^2\n",
    "```"
   ]
  },
  {
   "cell_type": "markdown",
   "metadata": {},
   "source": [
    "You can make an initial guess `u_0`, and then calculate a better guess by solving"
   ]
  },
  {
   "cell_type": "markdown",
   "metadata": {},
   "source": [
    "```\n",
    "Laplacian u_1(x, y) = u_1(x,y) u_0(x,y)\n",
    "```"
   ]
  },
  {
   "cell_type": "markdown",
   "metadata": {},
   "source": [
    "If you keep iterating this, you should end up at the solution.\n",
    "There are many methods, however. This was just to show one simple approach (which won't always work)."
   ]
  },
  {
   "cell_type": "markdown",
   "metadata": {},
   "source": [
    "You could also for the above system define, after discretisation into vector `u` and matrix `L`, define\n",
    "```\n",
    "def error(u):\n",
    "    return sum(L u - u^2)^2\n",
    "```\n",
    "and then use optimisation methods as taught in the previous lecture to find `u`.\n",
    "\n",
    "### Extra exercise\n",
    "Solve\n",
    "```\n",
    "y''(x) = 2 y(x)^2 + sin(x)\n",
    "y(0) = 10\n",
    "y(pi) = 1\n",
    "```\n",
    "This does not have a (known) analytical solution.\n",
    "\n",
    "The solution has `y(2) = 0.3421`."
   ]
  }
 ],
 "metadata": {
  "kernelspec": {
   "display_name": "Python 2",
   "language": "python",
   "name": "python2"
  },
  "language_info": {
   "codemirror_mode": {
    "name": "ipython",
    "version": 2
   },
   "file_extension": ".py",
   "mimetype": "text/x-python",
   "name": "python",
   "nbconvert_exporter": "python",
   "pygments_lexer": "ipython2",
   "version": "2.7.6"
  }
 },
 "nbformat": 4,
 "nbformat_minor": 0
}
