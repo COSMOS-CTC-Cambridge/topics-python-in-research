{
 "metadata": {
  "name": "",
  "signature": "sha256:c9d063e0e63bf4b2b21294fa7d34401b5b9907f46e51c85c0bb67ef8f98f8890"
 },
 "nbformat": 3,
 "nbformat_minor": 0,
 "worksheets": [
  {
   "cells": [
    {
     "cell_type": "code",
     "collapsed": false,
     "input": [
      "from __future__ import division, print_function\n",
      "import numpy as np\n",
      "import matplotlib.pyplot as plt\n",
      "%matplotlib inline"
     ],
     "language": "python",
     "metadata": {},
     "outputs": [],
     "prompt_number": 1
    },
    {
     "cell_type": "markdown",
     "metadata": {},
     "source": [
      "# Monte Carlo Simulations"
     ]
    },
    {
     "cell_type": "markdown",
     "metadata": {},
     "source": [
      "## Calculating Pi"
     ]
    },
    {
     "cell_type": "code",
     "collapsed": false,
     "input": [
      "def random_number_plusminus1(n):\n",
      "    return 2*np.random.random(n) - 1\n",
      "\n",
      "x, y = random_number_plusminus1((2,1000))"
     ],
     "language": "python",
     "metadata": {},
     "outputs": []
    },
    {
     "cell_type": "code",
     "collapsed": false,
     "input": [
      "plt.scatter(x, y)\n",
      "plt.show()"
     ],
     "language": "python",
     "metadata": {},
     "outputs": []
    },
    {
     "cell_type": "code",
     "collapsed": false,
     "input": [
      "area_of_square = 2*2\n",
      "ratio_of_dart_inside = np.mean(x**2 + y**2 < 1)\n",
      "pi_estimate = area_of_square * ratio_of_dart_inside\n",
      "print(pi_estimate, np.pi)"
     ],
     "language": "python",
     "metadata": {},
     "outputs": []
    },
    {
     "cell_type": "code",
     "collapsed": false,
     "input": [
      "x, y = random_number_plusminus1((2,10000000))\n",
      "area_of_square = 2*2\n",
      "ratio_of_dart_inside = np.mean(x**2 + y**2 < 1)\n",
      "pi_estimate = area_of_square * ratio_of_dart_inside\n",
      "print(pi_estimate, np.pi)"
     ],
     "language": "python",
     "metadata": {},
     "outputs": []
    },
    {
     "cell_type": "markdown",
     "metadata": {},
     "source": [
      "## Calculating an integral"
     ]
    },
    {
     "cell_type": "code",
     "collapsed": false,
     "input": [
      "def f(x):\n",
      "    return np.log(2*x) # Integral from 1 to 10 is 20.264\n",
      "x = np.linspace(1,10,1000)\n",
      "plt.plot(x, f(x))\n",
      "plt.show()"
     ],
     "language": "python",
     "metadata": {},
     "outputs": []
    },
    {
     "cell_type": "code",
     "collapsed": false,
     "input": [
      "n = 1000\n",
      "x_draw = 1 + 9*np.random.random(n)\n",
      "y_draw = 3.5 * np.random.random(n)\n",
      "plt.scatter(x_draw, y_draw)\n",
      "plt.plot(x, f(x), 'r', lw=3)\n",
      "plt.show()"
     ],
     "language": "python",
     "metadata": {},
     "outputs": []
    },
    {
     "cell_type": "code",
     "collapsed": false,
     "input": [
      "area_square = 3.5*9\n",
      "ratio_inside = np.mean(y_draw < f(x_draw))\n",
      "integral = area_square * ratio_inside\n",
      "print(integral)"
     ],
     "language": "python",
     "metadata": {},
     "outputs": []
    },
    {
     "cell_type": "code",
     "collapsed": false,
     "input": [
      "def calc_intergal(n):\n",
      "    x_draw = 1 + 9*np.random.random(n)\n",
      "    y_draw = 3.5 * np.random.random(n)\n",
      "    ratio_inside = np.mean(y_draw < f(x_draw))\n",
      "    return area_square * ratio_inside\n",
      "\n",
      "estimates = [calc_intergal(100000) for i in range(100)]\n",
      "print(np.mean(estimates), '+-', np.std(estimates)/np.sqrt(100))"
     ],
     "language": "python",
     "metadata": {},
     "outputs": []
    },
    {
     "cell_type": "markdown",
     "metadata": {},
     "source": [
      "## Drawing random numbers"
     ]
    },
    {
     "cell_type": "markdown",
     "metadata": {},
     "source": [
      "Numpy has tons of random number functions.\n",
      "See https://docs.scipy.org/doc/numpy/reference/routines.random.html\n",
      "But it doesn't have everything.\n",
      "\n",
      "It does have the exponential distributions, but let's try and make it ourselves."
     ]
    },
    {
     "cell_type": "code",
     "collapsed": false,
     "input": [
      "def exponential_numbers(a, n):\n",
      "    u = np.random.random(n)\n",
      "    return -1/a * np.log(u) # inverse method"
     ],
     "language": "python",
     "metadata": {},
     "outputs": []
    },
    {
     "cell_type": "code",
     "collapsed": false,
     "input": [
      "x = exponential_numbers(1, 250)\n",
      "plt.plot(x, '-o')\n",
      "plt.show()"
     ],
     "language": "python",
     "metadata": {},
     "outputs": []
    },
    {
     "cell_type": "code",
     "collapsed": false,
     "input": [
      "x = exponential_numbers(1, 10000)\n",
      "plt.hist(x, bins=50)\n",
      "plt.show()"
     ],
     "language": "python",
     "metadata": {},
     "outputs": []
    },
    {
     "cell_type": "markdown",
     "metadata": {},
     "source": [
      "## Hit-miss"
     ]
    },
    {
     "cell_type": "markdown",
     "metadata": {},
     "source": [
      "Now let draw from a weird distrubtion:"
     ]
    },
    {
     "cell_type": "code",
     "collapsed": false,
     "input": [
      "def f(x):\n",
      "    return np.exp(-x) * x**2/(2-10*np.exp(-2))\n",
      "x = np.linspace(0, 2, 10000)\n",
      "plt.plot(x, f(x))\n",
      "plt.show()"
     ],
     "language": "python",
     "metadata": {},
     "outputs": []
    },
    {
     "cell_type": "code",
     "collapsed": false,
     "input": [
      "def draw_random_number(f, minx, maxx, maxy):\n",
      "    while True:\n",
      "        x = minx + (maxx - minx) * np.random.random()\n",
      "        y = maxy * np.random.random()\n",
      "        if f(x) > y:\n",
      "            return x"
     ],
     "language": "python",
     "metadata": {},
     "outputs": []
    },
    {
     "cell_type": "code",
     "collapsed": false,
     "input": [
      "x = [draw_random_number(f, 0, 2, 1) for i in range(100000)]\n",
      "plt.hist(x, bins=50, normed=True)\n",
      "plt.show()"
     ],
     "language": "python",
     "metadata": {},
     "outputs": []
    },
    {
     "cell_type": "markdown",
     "metadata": {},
     "source": [
      "## Markov Chain Monte Carlo: Metropolis hastings\n",
      "We give up the requirement that samples are independent."
     ]
    },
    {
     "cell_type": "code",
     "collapsed": false,
     "input": [
      "def metropolis(f, x0, n=1000, std=0.3):\n",
      "    current = f(x0)\n",
      "    x = [x0]\n",
      "    for i in range(1, n):\n",
      "        xn = x0 + std * np.random.randn()\n",
      "        new = f(xn)\n",
      "        if np.random.random() < new/current:\n",
      "            x0 = xn\n",
      "            current = new\n",
      "        x.append(x0)\n",
      "    return x"
     ],
     "language": "python",
     "metadata": {},
     "outputs": []
    },
    {
     "cell_type": "code",
     "collapsed": false,
     "input": [
      "gauss = lambda x : np.exp(-x**2/2)\n",
      "exp = lambda x : np.exp(-x) * (x>=0)"
     ],
     "language": "python",
     "metadata": {},
     "outputs": []
    },
    {
     "cell_type": "code",
     "collapsed": false,
     "input": [
      "x = metropolis(gauss, 1, 250)\n",
      "plt.plot(x, '-o')\n",
      "plt.show()"
     ],
     "language": "python",
     "metadata": {},
     "outputs": []
    },
    {
     "cell_type": "code",
     "collapsed": false,
     "input": [
      "x = metropolis(gauss, 1, 100000)\n",
      "plt.hist(x, bins=30, normed=True)\n",
      "plt.show()"
     ],
     "language": "python",
     "metadata": {},
     "outputs": []
    },
    {
     "cell_type": "code",
     "collapsed": false,
     "input": [
      "x = metropolis(exp, 1, 100000)\n",
      "plt.hist(x, bins=30, normed=True)\n",
      "plt.show()"
     ],
     "language": "python",
     "metadata": {},
     "outputs": []
    },
    {
     "cell_type": "heading",
     "level": 2,
     "metadata": {},
     "source": [
      "2D MCMC Visualised"
     ]
    },
    {
     "cell_type": "code",
     "collapsed": false,
     "input": [
      "def some_2d_distribution(x, y): # doesn't have to be normalised\n",
      "    return x**2*np.exp(-y**2) * (x>=0) * (x<=10) * (y>=-5) * (y<=5)\n",
      "\n",
      "X, Y = np.meshgrid(np.linspace(0,10,50), np.linspace(-5,5,50))\n",
      "d = some_2d_distribution(X, Y)\n",
      "plt.imshow(d, extent=(np.min(X),np.max(X),np.max(Y),np.min(Y)))\n",
      "plt.show()"
     ],
     "language": "python",
     "metadata": {},
     "outputs": []
    },
    {
     "cell_type": "code",
     "collapsed": false,
     "input": [
      "def metropolis(f, x0, y0, n=1000, std=1.0):\n",
      "    current = f(x0, y0)\n",
      "    x = [x0]\n",
      "    y = [y0]\n",
      "    plt.ion()\n",
      "    for i in range(1, n):\n",
      "        xn = x0 + std * np.random.randn()\n",
      "        yn = y0 + std * np.random.randn()\n",
      "        new = f(xn, yn)\n",
      "        if np.random.random() < new/current:\n",
      "            x0 = xn\n",
      "            y0 = yn\n",
      "            current = new\n",
      "        x.append(x0)\n",
      "        y.append(y0)\n",
      "        plt.clf()\n",
      "        plt.plot(x, y)\n",
      "        plt.axis([0,10,-5,5])\n",
      "        plt.pause(0.001)\n",
      "    return x"
     ],
     "language": "python",
     "metadata": {},
     "outputs": []
    },
    {
     "cell_type": "code",
     "collapsed": false,
     "input": [
      "%matplotlib\n",
      "metropolis(some_2d_distribution, 0, 0)"
     ],
     "language": "python",
     "metadata": {},
     "outputs": []
    },
    {
     "cell_type": "code",
     "collapsed": false,
     "input": [],
     "language": "python",
     "metadata": {},
     "outputs": []
    }
   ],
   "metadata": {}
  }
 ]
}